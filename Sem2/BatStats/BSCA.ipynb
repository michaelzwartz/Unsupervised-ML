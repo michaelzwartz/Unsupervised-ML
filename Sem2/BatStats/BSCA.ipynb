{
 "cells": [
  {
   "attachments": {},
   "cell_type": "markdown",
   "metadata": {},
   "source": [
    "### Unsupervised Machine Learning\n",
    "Assignment #3 <br>\n",
    "Basic Sequential Clustering Algrorithm <br>\n",
    "Michael Zwartz<br>"
   ]
  },
  {
   "attachments": {},
   "cell_type": "markdown",
   "metadata": {},
   "source": [
    "#### Technical Description\n",
    "Basic Sequential Clustering (BSCA) is a very simple clstering method. Hence the \"basic\" in its name. In unsupervised machine learning clustering is a important technique to group together instances to sort new data or extract significant features. There are many variants of BSCA that change based on the user defined distance measurment used, threshold of dissimilarity, and maximum # of clusters. The main process for BSCA is to first find the distance between a cluster center and each instance. If that distance is greater than the user defined threshold and the maximum number of clusters has not been reached then BSCA will create a new cluster. If the distance is less than the threshold or the maximum number of clusters has been reached then BSCA will add that instance into the cluster and recalculate the center."
   ]
  },
  {
   "attachments": {},
   "cell_type": "markdown",
   "metadata": {},
   "source": [
    "#### Design of Algorithm\n",
    "There are only a few steps to the basic sequential clustering algorithm. \n",
    "1. Define the parameters for threshold of dissimilarity and maximum number of clusters. \n",
    "2. Iterate through each instance to determine the dissimilaity to each cluster. \n",
    "3. Assign that instance to a cluster. \n",
    "4. Create a plot displaying the clusters. \n"
   ]
  },
  {
   "attachments": {},
   "cell_type": "markdown",
   "metadata": {},
   "source": [
    "#### Results and Analysis"
   ]
  },
  {
   "cell_type": "code",
   "execution_count": 73,
   "metadata": {},
   "outputs": [],
   "source": [
    "#import libraries\n",
    "import pandas as pd\n",
    "import numpy as np\n",
    "from statistics import mean \n",
    "import matplotlib.pyplot as plt\n",
    "import plotly.graph_objects as go\n",
    "import plotly.express as px\n",
    "\n",
    "#import LDA and PCA data\n",
    "from PCAandLDA import PCA_batStats, batStats1D_LDA1, batStats2D_PCA\n",
    "\n",
    "#add 1D array to bat_stats dataframe\n",
    "data = batStats1D_LDA1.astype(float)\n",
    "\n",
    "data2D = batStats2D_PCA"
   ]
  },
  {
   "attachments": {},
   "cell_type": "markdown",
   "metadata": {},
   "source": [
    "Clustering with 1D Data from LDA"
   ]
  },
  {
   "cell_type": "code",
   "execution_count": 94,
   "metadata": {},
   "outputs": [
    {
     "name": "stdout",
     "output_type": "stream",
     "text": [
      "cluster 1 is made\n",
      "cluster 2 is made\n"
     ]
    }
   ],
   "source": [
    "#USER PRARAMETERS DEFINED\n",
    "#m = max number of clusters set by user\n",
    "m=3\n",
    "#a = alpha, threshold of dissimilarity set by user\n",
    "a=1\n",
    "\n",
    "#load data set\n",
    "LDA_1D = data.to_frame(name=\"LDA1\")\n",
    "\n",
    "#t = counter, counts number of iterations or clusters created\n",
    "t=1\n",
    "\n",
    "#initialize cluster dictionary\n",
    "clusters_LDA = dict(zip(range(m), [[] for i in range(m)]))\n",
    "\n",
    "#assign the first data point to cluster 1\n",
    "clusters_LDA[0].append(LDA_1D.LDA1[0])\n",
    "\n",
    "\n",
    "#iterate through data points after the first one\n",
    "for row in LDA_1D.LDA1[1:]:\n",
    "#add at least 1 data point to each cluster   \n",
    "#if counter is less than max clusters aka not all clusters have been instantiated\n",
    "    c=0 \n",
    "    currentclusters=t\n",
    "    distance = dict(zip(range(currentclusters), [[] for i in range(currentclusters)]))\n",
    "    \n",
    "    for c in range(currentclusters):\n",
    "        distance[c].append(abs(row-np.mean(clusters_LDA[c])))\n",
    "    \n",
    "    shortest_dist=min(distance.values())\n",
    "    closest_cluster=list(distance.keys())[list(distance.values()).index(shortest_dist)]\n",
    "    \n",
    "    if t<m and shortest_dist[0] >a:\n",
    "        print('cluster ' + str(c+1) + ' is made')\n",
    "        clusters_LDA[currentclusters].append(row)\n",
    "        t=t+1\n",
    "    #after all clusters have at least one data point sort the rest of the data point by choosing cluster with closest centroid\n",
    "    else:  \n",
    "        clusters_LDA[closest_cluster].append(row)\n",
    "\n",
    "#print cluster array\n",
    "#clusters_LDA[c]\n",
    "\n",
    "\n",
    "c_df=pd.DataFrame()\n",
    "for c in clusters_LDA:\n",
    "    for i in clusters_LDA[c]:\n",
    "        c_df=c_df.append({'Value': i, 'Cluster': c}, ignore_index=True)\n",
    "\n",
    "\n",
    "\n"
   ]
  },
  {
   "cell_type": "code",
   "execution_count": null,
   "metadata": {},
   "outputs": [],
   "source": [
    "#create 1D Plot with clusters \n",
    "fig=go.Figure()\n",
    "\n",
    "fig=px.histogram(x=c_df.Value, color=c_df.Cluster, \n",
    "               title=\"BSCA with 1D LDA BatStats Data:  alpha=\" + str(a) + \", max clusters=\" + str(m))\n",
    "\n",
    "fig.update_layout(coloraxis_colorbar=dict(\n",
    "    title=\"Clusters\",\n",
    "    tickvals=[0,1,2,3, 4],\n",
    "    ticktext=[\"c1\",\"c2\",\"c3\",\"c4\", \"c5\"],\n",
    "    lenmode=\"pixels\", len=500,\n",
    "))\n",
    "\n",
    "#fig.add_trace(go.scatter(x=clusters[1], y=range(len(clusters[0]))))\n",
    "fig.write_html('result1.html', auto_open=True)"
   ]
  },
  {
   "attachments": {},
   "cell_type": "markdown",
   "metadata": {},
   "source": [
    "Clustering with 2D Data from PCA"
   ]
  },
  {
   "cell_type": "code",
   "execution_count": 192,
   "metadata": {},
   "outputs": [],
   "source": [
    "#USER PRARAMETERS DEFINED\n",
    "#m = max number of clusters set by user\n",
    "m=3\n",
    "#a = alpha, threshold of dissimilarity set by user\n",
    "a=1\n",
    "\n",
    "#load data set\n",
    "PCA_2D = pd.DataFrame(data2D, columns = ['PCA1', 'PCA2'])\n",
    "\n",
    "#t = counter, counts number of iterations or clusters created\n",
    "t=1\n",
    "\n",
    "#initialize cluster dictionary\n",
    "clusters_PCA = dict(zip(range(m), [[] for i in range(m)]))\n",
    "\n",
    "#assign the first data point to cluster 1\n",
    "clusters_PCA[0].append(PCA_2D.loc[0])\n",
    "\n",
    "\n"
   ]
  },
  {
   "cell_type": "code",
   "execution_count": 194,
   "metadata": {},
   "outputs": [
    {
     "name": "stdout",
     "output_type": "stream",
     "text": [
      "cluster 1 is made\n"
     ]
    },
    {
     "ename": "ValueError",
     "evalue": "The truth value of a Series is ambiguous. Use a.empty, a.bool(), a.item(), a.any() or a.all().",
     "output_type": "error",
     "traceback": [
      "\u001b[1;31m---------------------------------------------------------------------------\u001b[0m",
      "\u001b[1;31mValueError\u001b[0m                                Traceback (most recent call last)",
      "\u001b[1;32m~\\AppData\\Local\\Temp\\ipykernel_2384\\120364373.py\u001b[0m in \u001b[0;36m<module>\u001b[1;34m\u001b[0m\n\u001b[0;32m     11\u001b[0m         \u001b[0mdistance\u001b[0m\u001b[1;33m[\u001b[0m\u001b[0mc\u001b[0m\u001b[1;33m]\u001b[0m\u001b[1;33m.\u001b[0m\u001b[0mappend\u001b[0m\u001b[1;33m(\u001b[0m\u001b[0mnp\u001b[0m\u001b[1;33m.\u001b[0m\u001b[0mlinalg\u001b[0m\u001b[1;33m.\u001b[0m\u001b[0mnorm\u001b[0m\u001b[1;33m(\u001b[0m\u001b[0mrow\u001b[0m \u001b[1;33m-\u001b[0m \u001b[0mnp\u001b[0m\u001b[1;33m.\u001b[0m\u001b[0mmean\u001b[0m\u001b[1;33m(\u001b[0m\u001b[0mclusters_PCA\u001b[0m\u001b[1;33m[\u001b[0m\u001b[0mc\u001b[0m\u001b[1;33m]\u001b[0m\u001b[1;33m)\u001b[0m\u001b[1;33m)\u001b[0m\u001b[1;33m)\u001b[0m\u001b[1;33m\u001b[0m\u001b[1;33m\u001b[0m\u001b[0m\n\u001b[0;32m     12\u001b[0m \u001b[1;33m\u001b[0m\u001b[0m\n\u001b[1;32m---> 13\u001b[1;33m     \u001b[0mshortest_dist\u001b[0m\u001b[1;33m=\u001b[0m\u001b[0mmin\u001b[0m\u001b[1;33m(\u001b[0m\u001b[0mdistance\u001b[0m\u001b[1;33m.\u001b[0m\u001b[0mvalues\u001b[0m\u001b[1;33m(\u001b[0m\u001b[1;33m)\u001b[0m\u001b[1;33m)\u001b[0m\u001b[1;33m\u001b[0m\u001b[1;33m\u001b[0m\u001b[0m\n\u001b[0m\u001b[0;32m     14\u001b[0m     \u001b[0mclosest_cluster\u001b[0m\u001b[1;33m=\u001b[0m\u001b[0mlist\u001b[0m\u001b[1;33m(\u001b[0m\u001b[0mdistance\u001b[0m\u001b[1;33m.\u001b[0m\u001b[0mkeys\u001b[0m\u001b[1;33m(\u001b[0m\u001b[1;33m)\u001b[0m\u001b[1;33m)\u001b[0m\u001b[1;33m[\u001b[0m\u001b[0mlist\u001b[0m\u001b[1;33m(\u001b[0m\u001b[0mdistance\u001b[0m\u001b[1;33m.\u001b[0m\u001b[0mvalues\u001b[0m\u001b[1;33m(\u001b[0m\u001b[1;33m)\u001b[0m\u001b[1;33m)\u001b[0m\u001b[1;33m.\u001b[0m\u001b[0mindex\u001b[0m\u001b[1;33m(\u001b[0m\u001b[0mshortest_dist\u001b[0m\u001b[1;33m)\u001b[0m\u001b[1;33m]\u001b[0m\u001b[1;33m\u001b[0m\u001b[1;33m\u001b[0m\u001b[0m\n\u001b[0;32m     15\u001b[0m \u001b[1;33m\u001b[0m\u001b[0m\n",
      "\u001b[1;32mc:\\Users\\Michael\\anaconda3\\lib\\site-packages\\pandas\\core\\generic.py\u001b[0m in \u001b[0;36m__nonzero__\u001b[1;34m(self)\u001b[0m\n\u001b[0;32m   1525\u001b[0m     \u001b[1;33m@\u001b[0m\u001b[0mfinal\u001b[0m\u001b[1;33m\u001b[0m\u001b[1;33m\u001b[0m\u001b[0m\n\u001b[0;32m   1526\u001b[0m     \u001b[1;32mdef\u001b[0m \u001b[0m__nonzero__\u001b[0m\u001b[1;33m(\u001b[0m\u001b[0mself\u001b[0m\u001b[1;33m)\u001b[0m\u001b[1;33m:\u001b[0m\u001b[1;33m\u001b[0m\u001b[1;33m\u001b[0m\u001b[0m\n\u001b[1;32m-> 1527\u001b[1;33m         raise ValueError(\n\u001b[0m\u001b[0;32m   1528\u001b[0m             \u001b[1;34mf\"The truth value of a {type(self).__name__} is ambiguous. \"\u001b[0m\u001b[1;33m\u001b[0m\u001b[1;33m\u001b[0m\u001b[0m\n\u001b[0;32m   1529\u001b[0m             \u001b[1;34m\"Use a.empty, a.bool(), a.item(), a.any() or a.all().\"\u001b[0m\u001b[1;33m\u001b[0m\u001b[1;33m\u001b[0m\u001b[0m\n",
      "\u001b[1;31mValueError\u001b[0m: The truth value of a Series is ambiguous. Use a.empty, a.bool(), a.item(), a.any() or a.all()."
     ]
    }
   ],
   "source": [
    "#iterate through data points after the first one\n",
    "for row in PCA_2D.iterrows():\n",
    "#add at least 1 data point to each cluster   \n",
    "#if counter is less than max clusters aka not all clusters have been instantiated\n",
    "    c=0 \n",
    "    currentclusters=t\n",
    "    distance = dict(zip(range(currentclusters), [[] for i in range(currentclusters)]))\n",
    "    \n",
    "    for c in range(currentclusters):\n",
    "        #find distance for each cluster using euclidean distance\n",
    "        distance[c].append(np.linalg.norm(row - np.mean(clusters_PCA[c])))\n",
    "    \n",
    "    shortest_dist=min(distance.values())\n",
    "    closest_cluster=list(distance.keys())[list(distance.values()).index(shortest_dist)]\n",
    "    \n",
    "    if t<m and shortest_dist[0] >a:\n",
    "        print('cluster ' + str(c+1) + ' is made')\n",
    "        clusters_LDA[currentclusters].append(row)\n",
    "        t=t+1\n",
    "    #after all clusters have at least one data point sort the rest of the data point by choosing cluster with closest centroid\n",
    "    else:  \n",
    "        clusters_PCA[closest_cluster].append(row)\n",
    "\n",
    "#print cluster array\n",
    "#clusters_LDA[c]\n",
    "\n",
    "\n",
    "c_df2=pd.DataFrame()\n",
    "for c in clusters_PCA:\n",
    "    for i in clusters_PCA[c]:\n",
    "        c_df2=c_df2.append({'Value': i, 'Cluster': c}, ignore_index=True)"
   ]
  },
  {
   "cell_type": "code",
   "execution_count": 92,
   "metadata": {},
   "outputs": [],
   "source": [
    "#Create 2D plot with clusters\n",
    "#create 1D Plot with clusters \n",
    "fig2=go.Figure()\n",
    "\n",
    "fig2=px.scatter(x=c_df2.Value, color=c_df2.Cluster, \n",
    "               title=\"BSCA with 2D PCA BatStats Data:  alpha=\" + str(a2) + \", max clusters=\" + str(m2))\n",
    "\n",
    "fig.update_layout(coloraxis_colorbar=dict(\n",
    "    title=\"Clusters\",\n",
    "    tickvals=[0,1,2,3, 4],\n",
    "    ticktext=[\"c1\",\"c2\",\"c3\",\"c4\", \"c5\"],\n",
    "    lenmode=\"pixels\", len=500,\n",
    "))\n",
    "\n",
    "#fig.add_trace(go.scatter(x=clusters[1], y=range(len(clusters[0]))))\n",
    "fig.write_html('result2.html', auto_open=True)"
   ]
  },
  {
   "attachments": {},
   "cell_type": "markdown",
   "metadata": {},
   "source": [
    "#### Analysis\n",
    "Something something something"
   ]
  }
 ],
 "metadata": {
  "kernelspec": {
   "display_name": "base",
   "language": "python",
   "name": "python3"
  },
  "language_info": {
   "codemirror_mode": {
    "name": "ipython",
    "version": 3
   },
   "file_extension": ".py",
   "mimetype": "text/x-python",
   "name": "python",
   "nbconvert_exporter": "python",
   "pygments_lexer": "ipython3",
   "version": "3.9.7"
  },
  "orig_nbformat": 4,
  "vscode": {
   "interpreter": {
    "hash": "569f545527bfb29d6fb9aacc607f33a145e1de933e11224bb20d6923ac7349a0"
   }
  }
 },
 "nbformat": 4,
 "nbformat_minor": 2
}
