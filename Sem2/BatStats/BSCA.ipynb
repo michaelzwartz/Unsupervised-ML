{
 "cells": [
  {
   "attachments": {},
   "cell_type": "markdown",
   "metadata": {},
   "source": [
    "### Unsupervised Machine Learning\n",
    "Assignment #3 <br>\n",
    "Basic Sequential Clustering Algrorithm <br>\n",
    "Michael Zwartz<br>"
   ]
  },
  {
   "attachments": {},
   "cell_type": "markdown",
   "metadata": {},
   "source": [
    "#### Technical Description\n",
    "Basic Sequential Clustering (BSCA) is a very simple clstering method. Hence the \"basic\" in its name. In unsupervised machine learning clustering is a important technique to group together instances to sort new data or extract significant features. There are many variants of BSCA that change based on the user defined distance measurment used, threshold of dissimilarity, and maximum # of clusters. The main process for BSCA is to first find the distance between a cluster center and each instance. If that distance is greater than the user defined threshold and the maximum number of clusters has not been reached then BSCA will create a new cluster. If the distance is less than the threshold or the maximum number of clusters has been reached then BSCA will add that instance into the cluster and recalculate the center."
   ]
  },
  {
   "attachments": {},
   "cell_type": "markdown",
   "metadata": {},
   "source": [
    "#### Design of Algorithm\n",
    "There are only a few steps to the basic sequential clustering algorithm. \n",
    "1. Define the parameters for threshold of dissimilarity and maximum number of clusters. \n",
    "2. Iterate through each instance to determine the dissimilaity to each cluster. \n",
    "3. Assign that instance to a cluster. \n",
    "4. Create a plot displaying the clusters. \n",
    "\n",
    "A couple of notes with this program below. The clusters were created using dictionaries. The disctionaries were then converted into dataframes to create the images. This distance measure used between instances was eucleidan. \n"
   ]
  },
  {
   "attachments": {},
   "cell_type": "markdown",
   "metadata": {},
   "source": [
    "#### Results and Analysis"
   ]
  },
  {
   "cell_type": "code",
   "execution_count": 2,
   "metadata": {},
   "outputs": [],
   "source": [
    "#import libraries\n",
    "import pandas as pd\n",
    "import numpy as np\n",
    "from statistics import mean \n",
    "import matplotlib.pyplot as plt\n",
    "import plotly.graph_objects as go\n",
    "import plotly.express as px\n",
    "\n",
    "#import LDA and PCA data\n",
    "from PCAandLDA import PCA_batStats, batStats1D_LDA1, batStats2D_PCA\n",
    "\n",
    "#add 1D array to bat_stats dataframe\n",
    "data = batStats1D_LDA1.astype(float)\n",
    "\n",
    "data2D = batStats2D_PCA"
   ]
  },
  {
   "attachments": {},
   "cell_type": "markdown",
   "metadata": {},
   "source": [
    "Clustering with 1D Data from LDA"
   ]
  },
  {
   "cell_type": "code",
   "execution_count": null,
   "metadata": {},
   "outputs": [],
   "source": [
    "#USER PRARAMETERS DEFINED\n",
    "#m = max number of clusters set by user\n",
    "m=3\n",
    "#a = alpha, threshold of dissimilarity set by user\n",
    "a=1\n",
    "\n",
    "#load data set\n",
    "LDA_1D = data.to_frame(name=\"LDA1\")\n",
    "\n",
    "#t = counter, counts number of iterations or clusters created\n",
    "t=1\n",
    "\n",
    "#initialize cluster dictionary\n",
    "clusters_LDA = dict(zip(range(m), [[] for i in range(m)]))\n",
    "\n",
    "#assign the first data point to cluster 1\n",
    "clusters_LDA[0].append(LDA_1D.LDA1[0])\n",
    "\n",
    "\n",
    "#iterate through data points after the first one\n",
    "for row in LDA_1D.LDA1[1:]:\n",
    "#add at least 1 data point to each cluster   \n",
    "#if counter is less than max clusters aka not all clusters have been instantiated\n",
    "    c=0 \n",
    "    currentclusters=t\n",
    "    distance = dict(zip(range(currentclusters), [[] for i in range(currentclusters)]))\n",
    "    \n",
    "    for c in range(currentclusters):\n",
    "        distance[c].append(abs(row-np.mean(clusters_LDA[c])))\n",
    "    \n",
    "    shortest_dist=min(distance.values())\n",
    "    closest_cluster=list(distance.keys())[list(distance.values()).index(shortest_dist)]\n",
    "    \n",
    "    if t<m and shortest_dist[0] >a:\n",
    "        print('cluster ' + str(c+1) + ' is made')\n",
    "        clusters_LDA[currentclusters].append(row)\n",
    "        t=t+1\n",
    "    #after all clusters have at least one data point sort the rest of the data point by choosing cluster with closest centroid\n",
    "    else:  \n",
    "        clusters_LDA[closest_cluster].append(row)\n",
    "\n",
    "#print cluster array\n",
    "#clusters_LDA[c]\n",
    "\n",
    "\n",
    "c_df=pd.DataFrame()\n",
    "for c in clusters_LDA:\n",
    "    for i in clusters_LDA[c]:\n",
    "        c_df=c_df.append({'Value': i, 'Cluster': c}, ignore_index=True)\n",
    "\n",
    "\n",
    "\n"
   ]
  },
  {
   "cell_type": "code",
   "execution_count": 4,
   "metadata": {},
   "outputs": [],
   "source": [
    "#create 1D Plot with clusters \n",
    "fig=go.Figure()\n",
    "\n",
    "fig=px.histogram(x=c_df.Value, color=c_df.Cluster, \n",
    "               title=\"BSCA with 1D LDA BatStats Data:  alpha=\" + str(a) + \", max clusters=\" + str(m))\n",
    "\n",
    "fig.update_layout(coloraxis_colorbar=dict(\n",
    "    title=\"Clusters\",\n",
    "    tickvals=[0,1,2,3, 4],\n",
    "    ticktext=[\"c1\",\"c2\",\"c3\",\"c4\", \"c5\"],\n",
    "    lenmode=\"pixels\", len=500,\n",
    "))\n",
    "\n",
    "#fig.add_trace(go.scatter(x=clusters[1], y=range(len(clusters[0]))))\n",
    "fig.write_html('result1.html', auto_open=True)"
   ]
  },
  {
   "attachments": {},
   "cell_type": "markdown",
   "metadata": {},
   "source": [
    "Clustering with 2D Data from PCA"
   ]
  },
  {
   "cell_type": "code",
   "execution_count": 4,
   "metadata": {},
   "outputs": [
    {
     "name": "stdout",
     "output_type": "stream",
     "text": [
      "cluster 1 is made\n",
      "cluster 2 is made\n"
     ]
    },
    {
     "data": {
      "text/html": [
       "<div>\n",
       "<style scoped>\n",
       "    .dataframe tbody tr th:only-of-type {\n",
       "        vertical-align: middle;\n",
       "    }\n",
       "\n",
       "    .dataframe tbody tr th {\n",
       "        vertical-align: top;\n",
       "    }\n",
       "\n",
       "    .dataframe thead th {\n",
       "        text-align: right;\n",
       "    }\n",
       "</style>\n",
       "<table border=\"1\" class=\"dataframe\">\n",
       "  <thead>\n",
       "    <tr style=\"text-align: right;\">\n",
       "      <th></th>\n",
       "      <th>PCA1</th>\n",
       "      <th>PCA2</th>\n",
       "      <th>Cluster</th>\n",
       "    </tr>\n",
       "  </thead>\n",
       "  <tbody>\n",
       "    <tr>\n",
       "      <th>0</th>\n",
       "      <td>-1.114278</td>\n",
       "      <td>-0.784380</td>\n",
       "      <td>0.0</td>\n",
       "    </tr>\n",
       "    <tr>\n",
       "      <th>1</th>\n",
       "      <td>-0.710603</td>\n",
       "      <td>-1.130156</td>\n",
       "      <td>0.0</td>\n",
       "    </tr>\n",
       "    <tr>\n",
       "      <th>2</th>\n",
       "      <td>-0.710856</td>\n",
       "      <td>-1.451322</td>\n",
       "      <td>0.0</td>\n",
       "    </tr>\n",
       "    <tr>\n",
       "      <th>3</th>\n",
       "      <td>-0.724572</td>\n",
       "      <td>-1.099276</td>\n",
       "      <td>0.0</td>\n",
       "    </tr>\n",
       "    <tr>\n",
       "      <th>4</th>\n",
       "      <td>-0.747418</td>\n",
       "      <td>-1.006021</td>\n",
       "      <td>0.0</td>\n",
       "    </tr>\n",
       "  </tbody>\n",
       "</table>\n",
       "</div>"
      ],
      "text/plain": [
       "       PCA1      PCA2  Cluster\n",
       "0 -1.114278 -0.784380      0.0\n",
       "1 -0.710603 -1.130156      0.0\n",
       "2 -0.710856 -1.451322      0.0\n",
       "3 -0.724572 -1.099276      0.0\n",
       "4 -0.747418 -1.006021      0.0"
      ]
     },
     "execution_count": 4,
     "metadata": {},
     "output_type": "execute_result"
    }
   ],
   "source": [
    "#USER PRARAMETERS DEFINED\n",
    "#m = max number of clusters set by user\n",
    "m=3\n",
    "#a = alpha, threshold of dissimilarity set by user\n",
    "a=0.05\n",
    "\n",
    "#define distance measurment\n",
    "def distance(point1, point2):\n",
    "    return np.sqrt(np.sum((point1 - point2)**2))\n",
    "\n",
    "#load data set\n",
    "PCA_2D = pd.DataFrame(data2D, columns = ['PCA1', 'PCA2']).sample(2000).reset_index()\n",
    "PCA_2D = PCA_2D[['PCA1', 'PCA2']]\n",
    "\n",
    "#t = counter, counts number of iterations or clusters created\n",
    "t=1\n",
    "\n",
    "#initialize cluster dictionary\n",
    "clusters_PCA = dict(zip(range(m), [[] for i in range(m)]))\n",
    "\n",
    "#assign the first data point to cluster 1\n",
    "clusters_PCA[0].append(PCA_2D.loc[0])\n",
    "\n",
    "row = 1\n",
    "while row < PCA_2D.shape[0]:\n",
    "#add at least 1 data point to each cluster   \n",
    "#if counter is less than max clusters aka not all clusters have been instantiated\n",
    "    c=0 \n",
    "    currentclusters=t\n",
    "    distance = dict(zip(range(currentclusters), [[] for i in range(currentclusters)]))\n",
    "    \n",
    "    for c in range(currentclusters):\n",
    "        #find distance for each cluster using euclidean distance\n",
    "        distance[c].append(np.linalg.norm(PCA_2D.loc[row]-(np.mean(clusters_PCA[c]))))\n",
    "    \n",
    "    shortest_dist=min(distance.values())\n",
    "    closest_cluster=list(distance.keys())[list(distance.values()).index(shortest_dist)]\n",
    "    \n",
    "    if t<m and shortest_dist[0] >a:\n",
    "        print('cluster ' + str(c+1) + ' is made')\n",
    "        clusters_PCA[currentclusters].append(PCA_2D.loc[row])\n",
    "        t=t+1\n",
    "    #after all clusters have at least one data point sort the rest of the data point by choosing cluster with closest centroid\n",
    "    else:  \n",
    "        clusters_PCA[closest_cluster].append(PCA_2D.loc[row])\n",
    "\n",
    "    row = row + 1\n",
    "\n",
    "#print cluster array\n",
    "#clusters_PCA\n",
    "\n",
    "c_df2=pd.DataFrame()\n",
    "for c in clusters_PCA:\n",
    "    for i in clusters_PCA[c]:\n",
    "        c_df2=c_df2.append({'PCA1': i[0], 'PCA2': i[1], 'Cluster': c}, ignore_index=True)\n",
    "\n",
    "c_df2.head()"
   ]
  },
  {
   "cell_type": "code",
   "execution_count": 5,
   "metadata": {},
   "outputs": [],
   "source": [
    "#Create 2D plot with clusters\n",
    "fig2=go.Figure()\n",
    "\n",
    "fig2=px.scatter(x=c_df2.PCA1, y=c_df2.PCA2, color=c_df2.Cluster, \n",
    "               title=\"BSCA with 2D PCA BatStats Data:  alpha=\" + str(a) + \", max clusters=\" + str(m))\n",
    "\n",
    "fig2.update_layout(coloraxis_colorbar=dict(\n",
    "    title=\"Clusters\",\n",
    "    tickvals=[0,1,2,3, 4],\n",
    "    ticktext=[\"c1\",\"c2\",\"c3\",\"c4\", \"c5\"],\n",
    "    lenmode=\"pixels\", len=500,\n",
    "))\n",
    "\n",
    "#fig.add_trace(go.scatter(x=clusters[1], y=range(len(clusters[0]))))\n",
    "fig2.write_html('result2.html', auto_open=True)"
   ]
  },
  {
   "attachments": {},
   "cell_type": "markdown",
   "metadata": {},
   "source": [
    "#### Analysis\n",
    "Something something something"
   ]
  }
 ],
 "metadata": {
  "kernelspec": {
   "display_name": "base",
   "language": "python",
   "name": "python3"
  },
  "language_info": {
   "codemirror_mode": {
    "name": "ipython",
    "version": 3
   },
   "file_extension": ".py",
   "mimetype": "text/x-python",
   "name": "python",
   "nbconvert_exporter": "python",
   "pygments_lexer": "ipython3",
   "version": "3.9.12"
  },
  "orig_nbformat": 4,
  "vscode": {
   "interpreter": {
    "hash": "f196503be2620b8a951410faf5d5e4e2312524b3fcc2c026a1c761fa9dc7bd3f"
   }
  }
 },
 "nbformat": 4,
 "nbformat_minor": 2
}
