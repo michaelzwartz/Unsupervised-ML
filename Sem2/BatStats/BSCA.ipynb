{
 "cells": [
  {
   "attachments": {},
   "cell_type": "markdown",
   "metadata": {},
   "source": [
    "### Unsupervised Machine Learning\n",
    "Assignment #3 <br>\n",
    "Basic Sequential Clustering Algrorithm <br>\n",
    "Michael Zwartz<br>"
   ]
  },
  {
   "attachments": {},
   "cell_type": "markdown",
   "metadata": {},
   "source": [
    "#### Technical Description\n",
    "Basic Sequential Clustering (BSCA) is a very simple clstering method. Hence the \"basic\" in its name. In unsupervised machine learning clustering is a important technique to group together instances to sort new data or extract significant features. There are many variants of BSCA that change based on the user defined distance measurment used, threshold of dissimilarity, and maximum # of clusters. "
   ]
  },
  {
   "cell_type": "code",
   "execution_count": 7,
   "metadata": {},
   "outputs": [],
   "source": [
    "#import libraries\n",
    "import pandas as pd\n",
    "import numpy as np\n",
    "import matplotlib.pyplot as plt\n",
    "import plotly.graph_objects as go\n",
    "import plotly.express as px\n",
    "\n",
    "#load file\n",
    "data = pd.read_csv('batStats_clean20.csv')\n",
    "\n",
    "#import LDA and PCA data\n",
    "from PCAandLDA import batStats1D\n",
    "\n",
    "#add 1D array to stars dataframe\n",
    "#stars['PCA1'] = stars1D\n",
    "\n",
    "#data.head()"
   ]
  },
  {
   "cell_type": "code",
   "execution_count": null,
   "metadata": {},
   "outputs": [],
   "source": [
    "#USER PRARAMETERS DEFINED\n",
    "#m = max number of clusters set by user\n",
    "m=3\n",
    "#a = alpha, threshold of dissimilarity set by user\n",
    "a=0.9\n",
    "\n",
    "#t = counter, counts number of iterations or clusters created\n",
    "t=1\n",
    "\n",
    "#initialize cluster dictionary\n",
    "clusters = dict(zip(range(m), [[] for i in range(m)]))\n",
    "\n",
    "#assign the first data point to cluster 1\n",
    "clusters[0].append(stars.PCA1[0])"
   ]
  },
  {
   "cell_type": "code",
   "execution_count": null,
   "metadata": {},
   "outputs": [],
   "source": [
    "#iterate through data points after the first one\n",
    "for row in stars.PCA1[1:]:\n",
    "#add at least 1 data point to each cluster   \n",
    "#if counter is less than max clusters aka not all clusters have been instantiated\n",
    "    c=0 \n",
    "    currentclusters=t\n",
    "    distance = dict(zip(range(currentclusters), [[] for i in range(currentclusters)]))\n",
    "    for c in range(currentclusters):\n",
    "        distance[c].append(abs(row-np.mean(clusters[c])))\n",
    "    shortest_dist=min(distance.values())\n",
    "    closest_cluster=list(distance.keys())[list(distance.values()).index(shortest_dist)]\n",
    "    if t<m and shortest_dist[0] >a:\n",
    "        print('cluster ' + str(c+1) + ' is made')\n",
    "        clusters[currentclusters].append(row)\n",
    "        t=t+1\n",
    "#after all clusters have at least one data point sort the rest of the data point by choosing cluster with closest centroid\n",
    "    else:  \n",
    "        clusters[closest_cluster].append(row)\n",
    "print(clusters)\n",
    "\n",
    "c_df=pd.DataFrame()\n",
    "for c in clusters:\n",
    "    for i in clusters[c]:\n",
    "        c_df=c_df.append({'Value': i, 'Cluster': c}, ignore_index=True)\n",
    "\n",
    "fig=go.Figure()\n",
    "\n",
    "fig=px.scatter(x=c_df.Value, color=c_df.Cluster, color_continuous_scale=['red','green','blue'], title=\"BSCA with 1D PCA Stars Data alpha=\" + str(a) + \", max clusters=\" + str(m))\n",
    "fig.update_layout(coloraxis_colorbar=dict(\n",
    "    title=\"Clusters\",\n",
    "    tickvals=[0,1,2,3, 4],\n",
    "    ticktext=[\"c1\",\"c2\",\"c3\",\"c4\", \"c5\"],\n",
    "    lenmode=\"pixels\", len=500,\n",
    "))\n",
    "#fig.add_trace(go.scatter(x=clusters[1], y=range(len(clusters[0]))))\n",
    "fig.write_html('result2.html', auto_open=True)"
   ]
  }
 ],
 "metadata": {
  "kernelspec": {
   "display_name": "base",
   "language": "python",
   "name": "python3"
  },
  "language_info": {
   "codemirror_mode": {
    "name": "ipython",
    "version": 3
   },
   "file_extension": ".py",
   "mimetype": "text/x-python",
   "name": "python",
   "nbconvert_exporter": "python",
   "pygments_lexer": "ipython3",
   "version": "3.9.12"
  },
  "orig_nbformat": 4,
  "vscode": {
   "interpreter": {
    "hash": "dbdcb66d1c96693250f301222deb253addb7cffe129c2f4d0a4da6ea226330dd"
   }
  }
 },
 "nbformat": 4,
 "nbformat_minor": 2
}
