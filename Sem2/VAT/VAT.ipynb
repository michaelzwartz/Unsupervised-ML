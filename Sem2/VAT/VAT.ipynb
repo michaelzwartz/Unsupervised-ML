{
 "cells": [
  {
   "cell_type": "code",
   "execution_count": 58,
   "metadata": {},
   "outputs": [],
   "source": [
    "import matplotlib.pyplot as plt\n",
    "import numpy as np \n",
    "import os \n",
    "\n",
    "def MakeDataSet(filename):\n",
    "    Img = plt.imread(filename)\n",
    "    [R, C] = np.where(Img == 0)  \n",
    "    X = np.array([R, C])\n",
    "    plt.scatter(X[0], X[1])  \n",
    "\n",
    "    return X"
   ]
  },
  {
   "cell_type": "code",
   "execution_count": null,
   "metadata": {},
   "outputs": [],
   "source": [
    "def LoadDataSets():\n",
    "    datasets = {}\n",
    "\n",
    "    path = os.getcwd()\n",
    "\n",
    "    for file in os.listdir(path):\n",
    "        # check the extension of files\n",
    "        if file.endswith('.PGM'):\n",
    "            # print whole path of files\n",
    "            print(os.path.join(file))\n",
    "\n",
    "    return datasets"
   ]
  }
 ],
 "metadata": {
  "kernelspec": {
   "display_name": "base",
   "language": "python",
   "name": "python3"
  },
  "language_info": {
   "codemirror_mode": {
    "name": "ipython",
    "version": 3
   },
   "file_extension": ".py",
   "mimetype": "text/x-python",
   "name": "python",
   "nbconvert_exporter": "python",
   "pygments_lexer": "ipython3",
   "version": "3.9.12"
  },
  "orig_nbformat": 4
 },
 "nbformat": 4,
 "nbformat_minor": 2
}
