{
 "cells": [
  {
   "cell_type": "code",
   "execution_count": 39,
   "metadata": {},
   "outputs": [],
   "source": [
    "import matplotlib.pyplot as plt\n",
    "import numpy as np \n",
    "import os \n",
    "\n",
    "def MakeDataSet(filename):\n",
    "    Img = plt.imread(filename)\n",
    "    [R, C] = np.where(Img == 0)  \n",
    "    X = np.array([R, C])\n",
    "    plt.figure()\n",
    "    plt.scatter(X[0], X[1])  \n",
    "\n",
    "    return X\n",
    "\n",
    "def LoadDataSets():\n",
    "    datasets = {}\n",
    "    i = 1 \n",
    "\n",
    "    path = os.getcwd()\n",
    "\n",
    "    for file in os.listdir(path):\n",
    "        # check the extension of files\n",
    "        if file.endswith('.PGM'):\n",
    "          datasets[i] =  MakeDataSet(file)\n",
    "          i = i + 1\n",
    "\n",
    "    return datasets\n",
    "\n",
    "#datasets = LoadDataSets()"
   ]
  }
 ],
 "metadata": {
  "kernelspec": {
   "display_name": "base",
   "language": "python",
   "name": "python3"
  },
  "language_info": {
   "codemirror_mode": {
    "name": "ipython",
    "version": 3
   },
   "file_extension": ".py",
   "mimetype": "text/x-python",
   "name": "python",
   "nbconvert_exporter": "python",
   "pygments_lexer": "ipython3",
   "version": "3.9.7"
  },
  "orig_nbformat": 4
 },
 "nbformat": 4,
 "nbformat_minor": 2
}
