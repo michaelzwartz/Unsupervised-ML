{
 "cells": [
  {
   "cell_type": "code",
   "execution_count": null,
   "metadata": {},
   "outputs": [],
   "source": [
    "import matplotlib.pyplot as plt\n",
    "import numpy as np \n",
    "import os \n",
    "\n",
    "#create function to make datasets\n",
    "def MakeDataSet(filename):\n",
    "    Img = plt.imread(filename)\n",
    "    [R, C] = np.where(Img == 0)  \n",
    "    X = np.array([R, C])\n",
    "    plt.figure()\n",
    "    plt.scatter(X[0], X[1])  \n",
    "\n",
    "    return X\n",
    "\n",
    "#create function to use MadeDataSet function only for PGM files\n",
    "def LoadDataSets():\n",
    "    datasets = {}\n",
    "    i = 1 \n",
    "\n",
    "    path = os.getcwd()\n",
    "\n",
    "    for file in os.listdir(path):\n",
    "        # check the extension of files\n",
    "        if file.endswith('.PGM'):\n",
    "          datasets[i] =  MakeDataSet(file)\n",
    "          i = i + 1\n",
    "\n",
    "    return datasets\n",
    "\n",
    "#Run the function to create a dictionary of datasets\n",
    "datasets = LoadDataSets()\n",
    "\n",
    "#import preclustering packages\n",
    "from pyclustertend import vat\n",
    "from pyclustertend import ivat\n",
    "\n",
    "#run VAT for each dataset\n",
    "for set in datasets:\n",
    "    try:\n",
    "        print(\"VAT for Dataset #\", set, \"all good.\")\n",
    "        vat(np.rot90(datasets[set]))\n",
    "    except IndexError:\n",
    "        print(\"Dataset #\", set, \"not rotated. VAT complete\")\n",
    "        vat(datasets[set])\n",
    "\n",
    "#run iVAT for each dataset.\n",
    "for set in datasets:\n",
    "    try:\n",
    "        print(\"iVAT for Dataset #\", set, \"all good\")\n",
    "        ivat(np.rot90(datasets[set]))\n",
    "    except IndexError:\n",
    "        print(\"Dataset #\", set, \"not rotated. iVAT complete.\")\n",
    "        ivat(datasets[set])\n"
   ]
  },
  {
   "cell_type": "code",
   "execution_count": null,
   "metadata": {},
   "outputs": [],
   "source": [
    "\n"
   ]
  }
 ],
 "metadata": {
  "kernelspec": {
   "display_name": "base",
   "language": "python",
   "name": "python3"
  },
  "language_info": {
   "codemirror_mode": {
    "name": "ipython",
    "version": 3
   },
   "file_extension": ".py",
   "mimetype": "text/x-python",
   "name": "python",
   "nbconvert_exporter": "python",
   "pygments_lexer": "ipython3",
   "version": "3.9.7"
  },
  "orig_nbformat": 4
 },
 "nbformat": 4,
 "nbformat_minor": 2
}
