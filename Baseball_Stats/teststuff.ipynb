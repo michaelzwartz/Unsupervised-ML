{
 "cells": [
  {
   "cell_type": "code",
   "execution_count": 51,
   "metadata": {},
   "outputs": [],
   "source": [
    "import pandas as pd \n",
    "import pandasql as sqldf\n",
    "\n",
    "hitters_all = pd.read_csv(\"batting.csv\")\n",
    "top_hittters_list = hitters_all.loc[hitters_all['WAR'] > 9.402515].index.tolist() #4 std from mean\n",
    "top_hitters_df = hitters_all.iloc[top_hittters_list]\n"
   ]
  },
  {
   "cell_type": "code",
   "execution_count": 54,
   "metadata": {},
   "outputs": [
    {
     "data": {
      "text/plain": [
       "Index(['Index', 'IDfg', 'Season', 'Name', 'Team', 'Age', 'G', 'AB', 'PA', 'H',\n",
       "       ...\n",
       "       'maxEV', 'HardHit', 'HardHit%', 'Events', 'CStr%', 'CSW%', 'xBA',\n",
       "       'xSLG', 'xwOBA', 'L-WAR'],\n",
       "      dtype='object', length=321)"
      ]
     },
     "execution_count": 54,
     "metadata": {},
     "output_type": "execute_result"
    }
   ],
   "source": [
    "#hitters_all['WAR'].describe()\n",
    "hitters_all.columns"
   ]
  },
  {
   "cell_type": "code",
   "execution_count": 58,
   "metadata": {},
   "outputs": [
    {
     "data": {
      "text/html": [
       "<div>\n",
       "<style scoped>\n",
       "    .dataframe tbody tr th:only-of-type {\n",
       "        vertical-align: middle;\n",
       "    }\n",
       "\n",
       "    .dataframe tbody tr th {\n",
       "        vertical-align: top;\n",
       "    }\n",
       "\n",
       "    .dataframe thead th {\n",
       "        text-align: right;\n",
       "    }\n",
       "</style>\n",
       "<table border=\"1\" class=\"dataframe\">\n",
       "  <thead>\n",
       "    <tr style=\"text-align: right;\">\n",
       "      <th></th>\n",
       "      <th>Season</th>\n",
       "      <th>Name</th>\n",
       "      <th>Team</th>\n",
       "      <th>Age</th>\n",
       "      <th>AVG</th>\n",
       "      <th>SLG</th>\n",
       "      <th>WAR</th>\n",
       "    </tr>\n",
       "  </thead>\n",
       "  <tbody>\n",
       "    <tr>\n",
       "      <th>0</th>\n",
       "      <td>2002</td>\n",
       "      <td>Barry Bonds</td>\n",
       "      <td>SFG</td>\n",
       "      <td>37</td>\n",
       "      <td>0.370</td>\n",
       "      <td>0.799</td>\n",
       "      <td>12.7</td>\n",
       "    </tr>\n",
       "    <tr>\n",
       "      <th>1</th>\n",
       "      <td>2004</td>\n",
       "      <td>Barry Bonds</td>\n",
       "      <td>SFG</td>\n",
       "      <td>39</td>\n",
       "      <td>0.362</td>\n",
       "      <td>0.812</td>\n",
       "      <td>11.9</td>\n",
       "    </tr>\n",
       "    <tr>\n",
       "      <th>2</th>\n",
       "      <td>2022</td>\n",
       "      <td>Aaron Judge</td>\n",
       "      <td>NYY</td>\n",
       "      <td>30</td>\n",
       "      <td>0.311</td>\n",
       "      <td>0.686</td>\n",
       "      <td>11.4</td>\n",
       "    </tr>\n",
       "    <tr>\n",
       "      <th>3</th>\n",
       "      <td>2018</td>\n",
       "      <td>Mookie Betts</td>\n",
       "      <td>BOS</td>\n",
       "      <td>25</td>\n",
       "      <td>0.346</td>\n",
       "      <td>0.640</td>\n",
       "      <td>10.5</td>\n",
       "    </tr>\n",
       "    <tr>\n",
       "      <th>4</th>\n",
       "      <td>2003</td>\n",
       "      <td>Barry Bonds</td>\n",
       "      <td>SFG</td>\n",
       "      <td>38</td>\n",
       "      <td>0.341</td>\n",
       "      <td>0.749</td>\n",
       "      <td>10.2</td>\n",
       "    </tr>\n",
       "  </tbody>\n",
       "</table>\n",
       "</div>"
      ],
      "text/plain": [
       "   Season          Name Team  Age    AVG    SLG   WAR\n",
       "0    2002   Barry Bonds  SFG   37  0.370  0.799  12.7\n",
       "1    2004   Barry Bonds  SFG   39  0.362  0.812  11.9\n",
       "2    2022   Aaron Judge  NYY   30  0.311  0.686  11.4\n",
       "3    2018  Mookie Betts  BOS   25  0.346  0.640  10.5\n",
       "4    2003   Barry Bonds  SFG   38  0.341  0.749  10.2"
      ]
     },
     "execution_count": 58,
     "metadata": {},
     "output_type": "execute_result"
    }
   ],
   "source": [
    "top_hitters_basics = top_hitters_df[['Season', 'Name', 'Team', 'Age', 'AVG', 'SLG', 'WAR']]\n",
    "top_hitters_basics.head()"
   ]
  },
  {
   "cell_type": "code",
   "execution_count": 17,
   "metadata": {},
   "outputs": [
    {
     "ename": "TypeError",
     "evalue": "'module' object is not callable",
     "output_type": "error",
     "traceback": [
      "\u001b[1;31m---------------------------------------------------------------------------\u001b[0m",
      "\u001b[1;31mTypeError\u001b[0m                                 Traceback (most recent call last)",
      "Cell \u001b[1;32mIn[17], line 1\u001b[0m\n\u001b[1;32m----> 1\u001b[0m all_giants \u001b[39m=\u001b[39m sqldf(\u001b[39m\"\u001b[39;49m\u001b[39mSELECT * FROM hitters\u001b[39;49m\u001b[39m\"\u001b[39;49m)\n\u001b[0;32m      2\u001b[0m all_giants\n",
      "\u001b[1;31mTypeError\u001b[0m: 'module' object is not callable"
     ]
    }
   ],
   "source": [
    "all_giants = sqldf(\"SELECT * FROM hitters WHERE(Team = SFG)\")\n",
    "all_giants\n"
   ]
  },
  {
   "cell_type": "code",
   "execution_count": null,
   "metadata": {},
   "outputs": [],
   "source": []
  }
 ],
 "metadata": {
  "kernelspec": {
   "display_name": "base",
   "language": "python",
   "name": "python3"
  },
  "language_info": {
   "codemirror_mode": {
    "name": "ipython",
    "version": 3
   },
   "file_extension": ".py",
   "mimetype": "text/x-python",
   "name": "python",
   "nbconvert_exporter": "python",
   "pygments_lexer": "ipython3",
   "version": "3.9.16"
  },
  "orig_nbformat": 4
 },
 "nbformat": 4,
 "nbformat_minor": 2
}
