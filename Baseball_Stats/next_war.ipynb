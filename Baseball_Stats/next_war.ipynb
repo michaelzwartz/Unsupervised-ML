{
 "cells": [
  {
   "cell_type": "code",
   "execution_count": 1,
   "metadata": {},
   "outputs": [],
   "source": [
    "import os\n",
    "import pandas as pd\n",
    "import numpy as np\n",
    "\n",
    "data = pd.read_csv(\"batting.csv\")\n"
   ]
  },
  {
   "cell_type": "code",
   "execution_count": 2,
   "metadata": {},
   "outputs": [],
   "source": [
    "batting = data.groupby(\"IDfg\", group_keys=False).filter(lambda x: x.shape[0]>1)\n",
    "#batting"
   ]
  },
  {
   "cell_type": "code",
   "execution_count": 3,
   "metadata": {},
   "outputs": [],
   "source": [
    "def next_season(player):\n",
    "    player=player.sort_values(\"Season\")\n",
    "    player[\"Next_WAR\"] = player['WAR'].shift(-1)\n",
    "    return player\n",
    "\n",
    "batting= batting.groupby(\"IDfg\", group_keys=False).apply(next_season)\n",
    "#batting[[\"Name\", \"Season\", \"WAR\", \"Next_WAR\"]]\n"
   ]
  },
  {
   "cell_type": "code",
   "execution_count": 4,
   "metadata": {},
   "outputs": [],
   "source": [
    "null_count = batting.isnull().sum()\n",
    "complete_cols = list(batting.columns[null_count == 0])\n",
    "batting = batting[complete_cols + [\"Next_WAR\"]].copy()\n",
    "#batting"
   ]
  },
  {
   "cell_type": "code",
   "execution_count": 5,
   "metadata": {},
   "outputs": [
    {
     "data": {
      "text/plain": [
       "Name       object\n",
       "Team       object\n",
       "Dol        object\n",
       "Age Rng    object\n",
       "dtype: object"
      ]
     },
     "execution_count": 5,
     "metadata": {},
     "output_type": "execute_result"
    }
   ],
   "source": [
    "batting.dtypes[batting.dtypes == \"object\"]"
   ]
  },
  {
   "cell_type": "code",
   "execution_count": 6,
   "metadata": {},
   "outputs": [],
   "source": [
    "del batting[\"Dol\"]\n",
    "del batting[\"Age Rng\"]"
   ]
  },
  {
   "cell_type": "code",
   "execution_count": 7,
   "metadata": {},
   "outputs": [],
   "source": [
    "#assign team codes into a set of unique numbers for each team\n",
    "batting[\"team_code\"] = batting[\"Team\"].astype(\"category\").cat.codes"
   ]
  },
  {
   "cell_type": "code",
   "execution_count": 8,
   "metadata": {},
   "outputs": [],
   "source": [
    "batting_full = batting.copy()\n",
    "batting = batting.dropna().copy()"
   ]
  },
  {
   "cell_type": "code",
   "execution_count": 9,
   "metadata": {},
   "outputs": [],
   "source": [
    "from sklearn.linear_model import Ridge\n",
    "from sklearn.feature_selection import SequentialFeatureSelector\n",
    "from sklearn.model_selection import TimeSeriesSplit\n",
    "\n",
    "#play around with aplha: higher --> reduces overfitting\n",
    "rr = Ridge(alpha=1)\n",
    "\n",
    "split = TimeSeriesSplit(n_splits=3)\n",
    "\n",
    "#n_jobs uses multiple threads - direction selects the best 20\n",
    "sfs = SequentialFeatureSelector(rr, n_features_to_select=20,\n",
    "                                direction=\"forward\", cv=split, n_jobs=4)"
   ]
  },
  {
   "cell_type": "code",
   "execution_count": 10,
   "metadata": {},
   "outputs": [],
   "source": [
    "#remove columns that won't work in the machine learning model\n",
    "removed_columns = [\"Next_WAR\", \"Name\", \"Team\", \"IDfg\", \"Season\"]\n",
    "selected_columns = batting.columns[~batting.columns.isin(removed_columns)]"
   ]
  },
  {
   "cell_type": "code",
   "execution_count": 11,
   "metadata": {},
   "outputs": [],
   "source": [
    "from sklearn.preprocessing import MinMaxScaler\n",
    "\n",
    "#normalize the data? \n",
    "scaler = MinMaxScaler()\n",
    "batting.loc[:, selected_columns] = scaler.fit_transform(batting[selected_columns])"
   ]
  },
  {
   "cell_type": "code",
   "execution_count": 12,
   "metadata": {},
   "outputs": [
    {
     "data": {
      "text/plain": [
       "SequentialFeatureSelector(cv=TimeSeriesSplit(gap=0, max_train_size=None, n_splits=3, test_size=None),\n",
       "                          estimator=Ridge(alpha=1), n_features_to_select=20,\n",
       "                          n_jobs=4)"
      ]
     },
     "execution_count": 12,
     "metadata": {},
     "output_type": "execute_result"
    }
   ],
   "source": [
    "sfs.fit(batting[selected_columns], batting[\"Next_WAR\"])"
   ]
  },
  {
   "cell_type": "code",
   "execution_count": 13,
   "metadata": {},
   "outputs": [
    {
     "data": {
      "text/plain": [
       "['Age',\n",
       " 'IBB',\n",
       " 'SO',\n",
       " 'SB',\n",
       " 'BU',\n",
       " 'BABIP',\n",
       " 'IFH%',\n",
       " 'WAR',\n",
       " 'Spd',\n",
       " 'PH',\n",
       " 'CB%',\n",
       " 'O-Contact%',\n",
       " 'wGDP',\n",
       " 'Oppo%',\n",
       " 'OBP+',\n",
       " 'SLG+',\n",
       " 'Pull%+',\n",
       " 'Soft%+',\n",
       " 'Hard%+',\n",
       " 'L-WAR']"
      ]
     },
     "execution_count": 13,
     "metadata": {},
     "output_type": "execute_result"
    }
   ],
   "source": [
    "#create a list of best features based on the ridge regression model\n",
    "predictors = list(selected_columns[sfs.get_support()])\n",
    "predictors"
   ]
  },
  {
   "cell_type": "code",
   "execution_count": 99,
   "metadata": {},
   "outputs": [],
   "source": [
    "#function for training model and making predctions \n",
    "\n",
    "def backtest(data, model, predictors, start=5, step=1):\n",
    "    all_predictions = []\n",
    "    years = sorted(batting[\"Season\"].unique())\n",
    "    \n",
    "    for i in range(start, len(years), step):\n",
    "        current_year = years[i]\n",
    "\n",
    "        train = data[data[\"Season\"] < current_year]\n",
    "        test = data[data[\"Season\"] == current_year]\n",
    "\n",
    "        model.fit(train[predictors], train[\"Next_WAR\"])\n",
    "\n",
    "        preds = model.predict(test[predictors])\n",
    "        preds = pd.Series(preds, index=test.index)\n",
    "        combined = pd.concat([test[\"Next_WAR\"], preds], axis=1)\n",
    "        combined.columns = [\"actual\", \"prediction\"]\n",
    "\n",
    "        all_predictions.append(combined)\n",
    "\n",
    "    return pd.concat(all_predictions)"
   ]
  },
  {
   "cell_type": "code",
   "execution_count": 100,
   "metadata": {},
   "outputs": [],
   "source": [
    "predictions = backtest(batting, rr, predictors)"
   ]
  },
  {
   "cell_type": "code",
   "execution_count": 101,
   "metadata": {},
   "outputs": [
    {
     "data": {
      "text/plain": [
       "2.7973640439713954"
      ]
     },
     "execution_count": 101,
     "metadata": {},
     "output_type": "execute_result"
    }
   ],
   "source": [
    "from sklearn.metrics import mean_squared_error\n",
    "\n",
    "mean_squared_error(predictions[\"actual\"], predictions[\"prediction\"])"
   ]
  },
  {
   "cell_type": "code",
   "execution_count": 102,
   "metadata": {},
   "outputs": [
    {
     "data": {
      "text/plain": [
       "count    5575.000000\n",
       "mean        1.794798\n",
       "std         1.996427\n",
       "min        -3.400000\n",
       "25%         0.300000\n",
       "50%         1.500000\n",
       "75%         2.900000\n",
       "max        11.900000\n",
       "Name: Next_WAR, dtype: float64"
      ]
     },
     "execution_count": 102,
     "metadata": {},
     "output_type": "execute_result"
    }
   ],
   "source": [
    "batting[\"Next_WAR\"].describe()"
   ]
  },
  {
   "cell_type": "code",
   "execution_count": 103,
   "metadata": {},
   "outputs": [
    {
     "data": {
      "text/plain": [
       "1.6725322250920593"
      ]
     },
     "execution_count": 103,
     "metadata": {},
     "output_type": "execute_result"
    }
   ],
   "source": [
    "#rule of thumb: the mean squared error should be lower than std squared\n",
    "2.7973640439713954 ** 0.5"
   ]
  },
  {
   "cell_type": "code",
   "execution_count": null,
   "metadata": {},
   "outputs": [],
   "source": []
  }
 ],
 "metadata": {
  "kernelspec": {
   "display_name": "base",
   "language": "python",
   "name": "python3"
  },
  "language_info": {
   "codemirror_mode": {
    "name": "ipython",
    "version": 3
   },
   "file_extension": ".py",
   "mimetype": "text/x-python",
   "name": "python",
   "nbconvert_exporter": "python",
   "pygments_lexer": "ipython3",
   "version": "3.9.7"
  },
  "orig_nbformat": 4,
  "vscode": {
   "interpreter": {
    "hash": "569f545527bfb29d6fb9aacc607f33a145e1de933e11224bb20d6923ac7349a0"
   }
  }
 },
 "nbformat": 4,
 "nbformat_minor": 2
}
